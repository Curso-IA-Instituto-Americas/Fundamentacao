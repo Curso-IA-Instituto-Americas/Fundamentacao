{
 "cells": [
  {
   "cell_type": "code",
   "execution_count": 1,
   "id": "1bc573d0",
   "metadata": {},
   "outputs": [],
   "source": [
    "# Função para calcular o IMC e classificar o resultado\n",
    "def calcular_imc(nome, peso, altura):\n",
    "    # Calcula o IMC: peso (kg) / (altura (m) * altura (m))\n",
    "    imc = peso / (altura ** 2)\n",
    "    \n",
    "    # Condicional para classificar o IMC\n",
    "    if imc < 18.5:\n",
    "        classificacao = \"abaixo do peso\"\n",
    "    elif 18.5 <= imc < 25:\n",
    "        classificacao = \"peso normal\"\n",
    "    elif 25 <= imc < 30:\n",
    "        classificacao = \"sobrepeso\"\n",
    "    else:\n",
    "        classificacao = \"obesidade\"\n",
    "\n",
    "    # Retorna uma mensagem formatada\n",
    "    return f\"{nome}, seu IMC é {imc:.1f}. Classificação: {classificacao}.\""
   ]
  },
  {
   "cell_type": "code",
   "execution_count": 2,
   "id": "40f47ad5",
   "metadata": {},
   "outputs": [],
   "source": [
    "# Tipos de variáveis\n",
    "nome = \"João\"        # String (texto)\n",
    "peso = 70.5         # Float (número com decimal)\n",
    "altura = 1.75       # Float (número com decimal)\n",
    "calculado = True    # Booleano (verdadeiro ou falso)"
   ]
  },
  {
   "cell_type": "code",
   "execution_count": 3,
   "id": "dedac3f7",
   "metadata": {},
   "outputs": [
    {
     "name": "stdout",
     "output_type": "stream",
     "text": [
      "Tipos de variáveis usadas:\n",
      "Nome: João - Tipo: <class 'str'>\n",
      "Peso: 70.5 kg - Tipo: <class 'float'>\n",
      "Altura: 1.75 m - Tipo: <class 'float'>\n",
      "Calculado: True - Tipo: <class 'bool'>\n"
     ]
    }
   ],
   "source": [
    "# Exibindo os tipos de variáveis\n",
    "print(\"Tipos de variáveis usadas:\")\n",
    "print(f\"Nome: {nome} - Tipo: {type(nome)}\")\n",
    "print(f\"Peso: {peso} kg - Tipo: {type(peso)}\")\n",
    "print(f\"Altura: {altura} m - Tipo: {type(altura)}\")\n",
    "print(f\"Calculado: {calculado} - Tipo: {type(calculado)}\")"
   ]
  },
  {
   "cell_type": "code",
   "execution_count": 4,
   "id": "0e737cae",
   "metadata": {},
   "outputs": [
    {
     "name": "stdout",
     "output_type": "stream",
     "text": [
      "João, seu IMC é 23.0. Classificação: peso normal.\n"
     ]
    }
   ],
   "source": [
    "# Chamando a função e exibindo o resultado\n",
    "resultado = calcular_imc(nome, peso, altura)\n",
    "print(resultado)"
   ]
  },
  {
   "cell_type": "code",
   "execution_count": null,
   "id": "1f9b7be5",
   "metadata": {},
   "outputs": [],
   "source": []
  }
 ],
 "metadata": {
  "kernelspec": {
   "display_name": "myenv",
   "language": "python",
   "name": "python3"
  },
  "language_info": {
   "codemirror_mode": {
    "name": "ipython",
    "version": 3
   },
   "file_extension": ".py",
   "mimetype": "text/x-python",
   "name": "python",
   "nbconvert_exporter": "python",
   "pygments_lexer": "ipython3",
   "version": "3.11.11"
  }
 },
 "nbformat": 4,
 "nbformat_minor": 5
}
